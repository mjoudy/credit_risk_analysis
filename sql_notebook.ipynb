{
 "cells": [
  {
   "cell_type": "code",
   "execution_count": 1,
   "id": "1753883c",
   "metadata": {},
   "outputs": [
    {
     "data": {
      "text/plain": [
       "'Connected: @sql/credit_risk.db'"
      ]
     },
     "execution_count": 1,
     "metadata": {},
     "output_type": "execute_result"
    }
   ],
   "source": [
    "%load_ext sql\n",
    "%sql sqlite:///sql/credit_risk.db"
   ]
  },
  {
   "cell_type": "code",
   "execution_count": 2,
   "id": "c15adb93",
   "metadata": {},
   "outputs": [
    {
     "name": "stdout",
     "output_type": "stream",
     "text": [
      " * sqlite:///sql/credit_risk.db\n",
      "Done.\n"
     ]
    },
    {
     "data": {
      "text/html": [
       "<table>\n",
       "    <thead>\n",
       "        <tr>\n",
       "            <th>COUNT(*)</th>\n",
       "        </tr>\n",
       "    </thead>\n",
       "    <tbody>\n",
       "        <tr>\n",
       "            <td>1000</td>\n",
       "        </tr>\n",
       "    </tbody>\n",
       "</table>"
      ],
      "text/plain": [
       "[(1000,)]"
      ]
     },
     "execution_count": 2,
     "metadata": {},
     "output_type": "execute_result"
    }
   ],
   "source": [
    "%%sql\n",
    "SELECT COUNT(*) FROM german_credit;"
   ]
  },
  {
   "cell_type": "code",
   "execution_count": 6,
   "id": "4627bcc5",
   "metadata": {},
   "outputs": [
    {
     "name": "stdout",
     "output_type": "stream",
     "text": [
      " * sqlite:///sql/credit_risk.db\n",
      "Done.\n",
      "+--------------------+\n",
      "| AVG(Credit_amount) |\n",
      "+--------------------+\n",
      "|      3271.258      |\n",
      "+--------------------+\n"
     ]
    }
   ],
   "source": [
    "result = %sql SELECT AVG(Credit_amount) FROM german_credit;\n",
    "print(result)"
   ]
  },
  {
   "cell_type": "code",
   "execution_count": 7,
   "id": "67785db9",
   "metadata": {},
   "outputs": [
    {
     "name": "stdout",
     "output_type": "stream",
     "text": [
      " * sqlite:///sql/credit_risk.db\n",
      "Done.\n"
     ]
    },
    {
     "data": {
      "text/html": [
       "<table>\n",
       "    <thead>\n",
       "        <tr>\n",
       "            <th>checking_status</th>\n",
       "            <th>duration</th>\n",
       "            <th>credit_history</th>\n",
       "            <th>purpose</th>\n",
       "            <th>credit_amount</th>\n",
       "            <th>savings_status</th>\n",
       "            <th>employment</th>\n",
       "            <th>installment_commitment</th>\n",
       "            <th>personal_status</th>\n",
       "            <th>other_parties</th>\n",
       "            <th>residence_since</th>\n",
       "            <th>property_magnitude</th>\n",
       "            <th>age</th>\n",
       "            <th>other_payment_plans</th>\n",
       "            <th>housing</th>\n",
       "            <th>existing_credits</th>\n",
       "            <th>job</th>\n",
       "            <th>num_dependents</th>\n",
       "            <th>own_telephone</th>\n",
       "            <th>foreign_worker</th>\n",
       "            <th>risk</th>\n",
       "        </tr>\n",
       "    </thead>\n",
       "    <tbody>\n",
       "        <tr>\n",
       "            <td>A11</td>\n",
       "            <td>6</td>\n",
       "            <td>A34</td>\n",
       "            <td>A43</td>\n",
       "            <td>1169</td>\n",
       "            <td>A65</td>\n",
       "            <td>A75</td>\n",
       "            <td>4</td>\n",
       "            <td>A93</td>\n",
       "            <td>A101</td>\n",
       "            <td>4</td>\n",
       "            <td>A121</td>\n",
       "            <td>67</td>\n",
       "            <td>A143</td>\n",
       "            <td>A152</td>\n",
       "            <td>2</td>\n",
       "            <td>A173</td>\n",
       "            <td>1</td>\n",
       "            <td>A192</td>\n",
       "            <td>A201</td>\n",
       "            <td>1</td>\n",
       "        </tr>\n",
       "        <tr>\n",
       "            <td>A12</td>\n",
       "            <td>48</td>\n",
       "            <td>A32</td>\n",
       "            <td>A43</td>\n",
       "            <td>5951</td>\n",
       "            <td>A61</td>\n",
       "            <td>A73</td>\n",
       "            <td>2</td>\n",
       "            <td>A92</td>\n",
       "            <td>A101</td>\n",
       "            <td>2</td>\n",
       "            <td>A121</td>\n",
       "            <td>22</td>\n",
       "            <td>A143</td>\n",
       "            <td>A152</td>\n",
       "            <td>1</td>\n",
       "            <td>A173</td>\n",
       "            <td>1</td>\n",
       "            <td>A191</td>\n",
       "            <td>A201</td>\n",
       "            <td>2</td>\n",
       "        </tr>\n",
       "        <tr>\n",
       "            <td>A14</td>\n",
       "            <td>12</td>\n",
       "            <td>A34</td>\n",
       "            <td>A46</td>\n",
       "            <td>2096</td>\n",
       "            <td>A61</td>\n",
       "            <td>A74</td>\n",
       "            <td>2</td>\n",
       "            <td>A93</td>\n",
       "            <td>A101</td>\n",
       "            <td>3</td>\n",
       "            <td>A121</td>\n",
       "            <td>49</td>\n",
       "            <td>A143</td>\n",
       "            <td>A152</td>\n",
       "            <td>1</td>\n",
       "            <td>A172</td>\n",
       "            <td>2</td>\n",
       "            <td>A191</td>\n",
       "            <td>A201</td>\n",
       "            <td>1</td>\n",
       "        </tr>\n",
       "        <tr>\n",
       "            <td>A11</td>\n",
       "            <td>42</td>\n",
       "            <td>A32</td>\n",
       "            <td>A42</td>\n",
       "            <td>7882</td>\n",
       "            <td>A61</td>\n",
       "            <td>A74</td>\n",
       "            <td>2</td>\n",
       "            <td>A93</td>\n",
       "            <td>A103</td>\n",
       "            <td>4</td>\n",
       "            <td>A122</td>\n",
       "            <td>45</td>\n",
       "            <td>A143</td>\n",
       "            <td>A153</td>\n",
       "            <td>1</td>\n",
       "            <td>A173</td>\n",
       "            <td>2</td>\n",
       "            <td>A191</td>\n",
       "            <td>A201</td>\n",
       "            <td>1</td>\n",
       "        </tr>\n",
       "        <tr>\n",
       "            <td>A11</td>\n",
       "            <td>24</td>\n",
       "            <td>A33</td>\n",
       "            <td>A40</td>\n",
       "            <td>4870</td>\n",
       "            <td>A61</td>\n",
       "            <td>A73</td>\n",
       "            <td>3</td>\n",
       "            <td>A93</td>\n",
       "            <td>A101</td>\n",
       "            <td>4</td>\n",
       "            <td>A124</td>\n",
       "            <td>53</td>\n",
       "            <td>A143</td>\n",
       "            <td>A153</td>\n",
       "            <td>2</td>\n",
       "            <td>A173</td>\n",
       "            <td>2</td>\n",
       "            <td>A191</td>\n",
       "            <td>A201</td>\n",
       "            <td>2</td>\n",
       "        </tr>\n",
       "    </tbody>\n",
       "</table>"
      ],
      "text/plain": [
       "[('A11', '6', 'A34', 'A43', '1169', 'A65', 'A75', '4', 'A93', 'A101', '4', 'A121', '67', 'A143', 'A152', '2', 'A173', '1', 'A192', 'A201', '1'),\n",
       " ('A12', '48', 'A32', 'A43', '5951', 'A61', 'A73', '2', 'A92', 'A101', '2', 'A121', '22', 'A143', 'A152', '1', 'A173', '1', 'A191', 'A201', '2'),\n",
       " ('A14', '12', 'A34', 'A46', '2096', 'A61', 'A74', '2', 'A93', 'A101', '3', 'A121', '49', 'A143', 'A152', '1', 'A172', '2', 'A191', 'A201', '1'),\n",
       " ('A11', '42', 'A32', 'A42', '7882', 'A61', 'A74', '2', 'A93', 'A103', '4', 'A122', '45', 'A143', 'A153', '1', 'A173', '2', 'A191', 'A201', '1'),\n",
       " ('A11', '24', 'A33', 'A40', '4870', 'A61', 'A73', '3', 'A93', 'A101', '4', 'A124', '53', 'A143', 'A153', '2', 'A173', '2', 'A191', 'A201', '2')]"
      ]
     },
     "execution_count": 7,
     "metadata": {},
     "output_type": "execute_result"
    }
   ],
   "source": [
    "%%sql\n",
    "SELECT * FROM german_credit LIMIT 5;\n"
   ]
  },
  {
   "cell_type": "code",
   "execution_count": 8,
   "id": "5730515b",
   "metadata": {},
   "outputs": [
    {
     "name": "stdout",
     "output_type": "stream",
     "text": [
      " * sqlite:///sql/credit_risk.db\n",
      "Done.\n",
      "Done.\n"
     ]
    },
    {
     "data": {
      "text/plain": [
       "[]"
      ]
     },
     "execution_count": 8,
     "metadata": {},
     "output_type": "execute_result"
    }
   ],
   "source": [
    "%%sql\n",
    "DROP TABLE IF EXISTS features;\n",
    "CREATE TABLE features AS\n",
    "SELECT\n",
    "  Credit_amount,\n",
    "  Duration,\n",
    "  Age,\n",
    "  CASE WHEN Credit_amount > 5000 THEN 1 ELSE 0 END AS high_loan_flag,\n",
    "  CASE WHEN Age < 25 THEN 1 ELSE 0 END AS young_flag,\n",
    "  CASE WHEN Risk = 'bad' THEN 1 ELSE 0 END AS label\n",
    "FROM german_credit;\n"
   ]
  },
  {
   "cell_type": "code",
   "execution_count": 9,
   "id": "60547f2d",
   "metadata": {},
   "outputs": [
    {
     "name": "stdout",
     "output_type": "stream",
     "text": [
      " * sqlite:///sql/credit_risk.db\n",
      "Done.\n"
     ]
    },
    {
     "data": {
      "text/html": [
       "<table>\n",
       "    <thead>\n",
       "        <tr>\n",
       "            <th>credit_amount</th>\n",
       "            <th>duration</th>\n",
       "            <th>age</th>\n",
       "            <th>high_loan_flag</th>\n",
       "            <th>young_flag</th>\n",
       "            <th>label</th>\n",
       "        </tr>\n",
       "    </thead>\n",
       "    <tbody>\n",
       "        <tr>\n",
       "            <td>1169</td>\n",
       "            <td>6</td>\n",
       "            <td>67</td>\n",
       "            <td>0</td>\n",
       "            <td>0</td>\n",
       "            <td>0</td>\n",
       "        </tr>\n",
       "        <tr>\n",
       "            <td>5951</td>\n",
       "            <td>48</td>\n",
       "            <td>22</td>\n",
       "            <td>1</td>\n",
       "            <td>1</td>\n",
       "            <td>0</td>\n",
       "        </tr>\n",
       "        <tr>\n",
       "            <td>2096</td>\n",
       "            <td>12</td>\n",
       "            <td>49</td>\n",
       "            <td>0</td>\n",
       "            <td>0</td>\n",
       "            <td>0</td>\n",
       "        </tr>\n",
       "        <tr>\n",
       "            <td>7882</td>\n",
       "            <td>42</td>\n",
       "            <td>45</td>\n",
       "            <td>1</td>\n",
       "            <td>0</td>\n",
       "            <td>0</td>\n",
       "        </tr>\n",
       "        <tr>\n",
       "            <td>4870</td>\n",
       "            <td>24</td>\n",
       "            <td>53</td>\n",
       "            <td>0</td>\n",
       "            <td>0</td>\n",
       "            <td>0</td>\n",
       "        </tr>\n",
       "    </tbody>\n",
       "</table>"
      ],
      "text/plain": [
       "[('1169', '6', '67', 0, 0, 0),\n",
       " ('5951', '48', '22', 1, 1, 0),\n",
       " ('2096', '12', '49', 0, 0, 0),\n",
       " ('7882', '42', '45', 1, 0, 0),\n",
       " ('4870', '24', '53', 0, 0, 0)]"
      ]
     },
     "execution_count": 9,
     "metadata": {},
     "output_type": "execute_result"
    }
   ],
   "source": [
    "%%sql\n",
    "SELECT * FROM features LIMIT 5;\n"
   ]
  },
  {
   "cell_type": "code",
   "execution_count": null,
   "id": "add5e1dc",
   "metadata": {},
   "outputs": [],
   "source": []
  }
 ],
 "metadata": {
  "kernelspec": {
   "display_name": "credit-risk",
   "language": "python",
   "name": "python3"
  },
  "language_info": {
   "codemirror_mode": {
    "name": "ipython",
    "version": 3
   },
   "file_extension": ".py",
   "mimetype": "text/x-python",
   "name": "python",
   "nbconvert_exporter": "python",
   "pygments_lexer": "ipython3",
   "version": "3.10.18"
  }
 },
 "nbformat": 4,
 "nbformat_minor": 5
}
